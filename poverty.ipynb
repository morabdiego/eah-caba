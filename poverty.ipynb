{
 "cells": [
  {
   "cell_type": "code",
   "execution_count": 8,
   "metadata": {},
   "outputs": [],
   "source": [
    "import os\n",
    "import pandas as pd"
   ]
  },
  {
   "cell_type": "code",
   "execution_count": 9,
   "metadata": {},
   "outputs": [],
   "source": [
    "def listar_txt_en_carpeta(carpeta: str) -> list[str]:\n",
    "    return [archivo for archivo in os.listdir(carpeta) if archivo.endswith('.txt')]\n",
    "\n",
    "bases = listar_txt_en_carpeta('cache/')\n",
    "\n",
    "dataframes = []\n",
    "for base in bases:\n",
    "    df = pd.read_csv(f'cache/{base}', sep=';')\n",
    "    df['file'] = base\n",
    "    df.columns\n",
    "    dataframes.append(df)\n",
    "\n",
    "with pd.ExcelWriter('columnas_dataframes.xlsx') as writer:\n",
    "    # Iterar sobre los dataframes\n",
    "    for i, df in enumerate(dataframes):\n",
    "        # Obtener las columnas del dataframe\n",
    "        columnas = pd.DataFrame({'Columnas': df.columns})\n",
    "        # Guardar las columnas en una hoja separada\n",
    "        columnas.to_excel(writer, sheet_name=f'DataFrame_{i+1}', index=False)"
   ]
  }
 ],
 "metadata": {
  "kernelspec": {
   "display_name": ".venv",
   "language": "python",
   "name": "python3"
  },
  "language_info": {
   "codemirror_mode": {
    "name": "ipython",
    "version": 3
   },
   "file_extension": ".py",
   "mimetype": "text/x-python",
   "name": "python",
   "nbconvert_exporter": "python",
   "pygments_lexer": "ipython3",
   "version": "3.12.5"
  }
 },
 "nbformat": 4,
 "nbformat_minor": 2
}
