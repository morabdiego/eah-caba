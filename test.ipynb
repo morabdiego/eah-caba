{
 "cells": [
  {
   "cell_type": "code",
   "execution_count": 4,
   "metadata": {},
   "outputs": [],
   "source": [
    "import requests\n",
    "from bs4 import BeautifulSoup"
   ]
  },
  {
   "cell_type": "code",
   "execution_count": 5,
   "metadata": {},
   "outputs": [],
   "source": [
    "def default_settings():\n",
    "    settings = { \n",
    "        'eah_url': 'https://www.estadisticaciudad.gob.ar/eyc/?cat=93',\n",
    "        'user-agent': 'Mozilla/5.0 (Windows NT 10.0; Win64; x64) AppleWebKit/537.36 (KHTML, like Gecko) Chrome/123.0.0.0 Safari/537.36',\n",
    "        'parser': 'html.parser'\n",
    "    }\n",
    "    return settings"
   ]
  },
  {
   "cell_type": "code",
   "execution_count": 8,
   "metadata": {},
   "outputs": [
    {
     "data": {
      "text/plain": [
       "'https://www.estadisticaciudad.gob.ar/eyc/wp-content/uploads/2023/08/eah2022_bu_ampliada.zip'"
      ]
     },
     "execution_count": 8,
     "metadata": {},
     "output_type": "execute_result"
    }
   ],
   "source": [
    "config = default_settings()\n",
    "h = {\n",
    "    'user-agent': config['user-agent']\n",
    "}\n",
    "\n",
    "loc = 'https://www.estadisticaciudad.gob.ar/eyc/?p=142314'\n",
    "req = requests.get(loc, headers=h)\n",
    "\n",
    "soup = BeautifulSoup(req.text, config['parser'])\n",
    "\n"
   ]
  },
  {
   "cell_type": "code",
   "execution_count": 11,
   "metadata": {},
   "outputs": [],
   "source": [
    "file_url = soup.find('div', class_='entry-content').a.get('href')"
   ]
  },
  {
   "cell_type": "code",
   "execution_count": 13,
   "metadata": {},
   "outputs": [],
   "source": [
    "file = requests.get(file_url)\n",
    "\n",
    "with open('dir.zip', 'wb') as f:\n",
    "    f.write(file.content)"
   ]
  }
 ],
 "metadata": {
  "kernelspec": {
   "display_name": ".venv",
   "language": "python",
   "name": "python3"
  },
  "language_info": {
   "codemirror_mode": {
    "name": "ipython",
    "version": 3
   },
   "file_extension": ".py",
   "mimetype": "text/x-python",
   "name": "python",
   "nbconvert_exporter": "python",
   "pygments_lexer": "ipython3",
   "version": "3.10.11"
  }
 },
 "nbformat": 4,
 "nbformat_minor": 2
}
